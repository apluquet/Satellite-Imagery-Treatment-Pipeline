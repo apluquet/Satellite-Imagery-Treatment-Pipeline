{
 "cells": [
  {
   "cell_type": "markdown",
   "metadata": {},
   "source": [
    "# Brovey Pansharpening\n",
    "\n",
    "La transformation Brovey a été élaborée dans le but d'augmenter le contraste visuel au niveau des extrémités supérieure et inférieure de l'histogramme des données. Elle fait appel à une méthode qui multiplie chaque pixel multispectral ré-échantillonné par le rapport de l'intensité du pixel panchromatique correspondant sur la somme de toutes les intensités multispectrales. Cette transformation suppose que **la gamme spectrale couverte par l'image panchromatique est identique à celle recouverte par les canaux multispectraux.**\n",
    "\n",
    "Dans la transformation Brovey, l'équation générale utilise le rouge, le vert et le bleu (RVB), ainsi que les canaux panchromatiques pour générer de nouveaux canaux RVB, par exemple :\n",
    "\n",
    "$$RedOut = (RedIn  * Panchromatic) / (BlueIn + GreenIn + RedIn)$$\n",
    "$$GreenOut = (GreenIn  * Panchromatic) / (BlueIn + GreenIn + RedIn)$$\n",
    "$$BlueOut = (BlueIn  * Panchromatic) / (BlueIn + GreenIn + RedIn)$$\n"
   ]
  },
  {
   "cell_type": "code",
   "execution_count": null,
   "metadata": {},
   "outputs": [],
   "source": [
    "# Import\n",
    "import matplotlib.pyplot as plt\n",
    "import cv2\n",
    "import numpy as np"
   ]
  },
  {
   "cell_type": "code",
   "execution_count": null,
   "metadata": {},
   "outputs": [],
   "source": [
    "# Path jusqu'à nos images\n",
    "PATH = \"../images/our-images/\""
   ]
  },
  {
   "cell_type": "code",
   "execution_count": null,
   "metadata": {},
   "outputs": [],
   "source": [
    "\"\"\"\n",
    "load_images : Chargement de nos images black&white, basse qualité couleur et originale\n",
    "name        : Nom de l'image que l'on veut charger\n",
    "ext         : Extension des images que l'on veut charger\n",
    "return      : Les trois images chargées\n",
    "\"\"\"\n",
    "def load_images(name, ext):\n",
    "    path = PATH + name\n",
    "    bw = cv2.imread(path + \"-bw.\" + ext, cv2.IMREAD_GRAYSCALE)\n",
    "    ds = cv2.imread(path + \"-ds.\" + ext)\n",
    "    ds = cv2.cvtColor(ds, cv2.COLOR_BGR2RGB)\n",
    "    original = cv2.imread(path + \"-cropped.\" + ext)\n",
    "    original = cv2.cvtColor(original, cv2.COLOR_BGR2RGB)\n",
    "    return (bw, ds, original)\n",
    "\n",
    "bw, ds, original = load_images(\"star-fort\", \"jpg\")"
   ]
  },
  {
   "cell_type": "code",
   "execution_count": null,
   "metadata": {},
   "outputs": [],
   "source": [
    "\"\"\"\n",
    "display_img : Affiche une image\n",
    "img         : L'image à afficher\n",
    "return      : Rien\n",
    "\"\"\"\n",
    "def display_img(img):\n",
    "    plt.figure(figsize = (12, 12))\n",
    "    plt.imshow(img, cmap=\"gray\")"
   ]
  },
  {
   "cell_type": "code",
   "execution_count": null,
   "metadata": {},
   "outputs": [],
   "source": [
    "display_img(ds)\n",
    "display_img(bw)"
   ]
  },
  {
   "cell_type": "code",
   "execution_count": null,
   "metadata": {},
   "outputs": [],
   "source": [
    "\"\"\"\n",
    "brovey : Applique l'algorithme de pansharpehing de Brovey\n",
    "bw     : L'image en Black&White\n",
    "ds     : L'image en DownSampled, basse qualité en couleur\n",
    "return : L'image pansharpened\n",
    "\"\"\"\n",
    "def brovey(bw, ds):\n",
    "    bw_height, bw_width = bw.shape\n",
    "    ds_height, ds_width, _ = ds.shape\n",
    "    \n",
    "    ds = cv2.resize(ds, dsize=(bw_height, bw_width))\n",
    "    ds = ds.astype(float)\n",
    "    \n",
    "    pan = np.zeros((bw_height,bw_width,3), np.uint8)\n",
    "\n",
    "    channels_sum = ds.sum(axis=2) / 3\n",
    "    channels_sum[channels_sum == 0] = 1\n",
    "\n",
    "    pan[:,:,0] = (ds[:,:,0] * bw) / channels_sum\n",
    "    pan[:,:,1] = (ds[:,:,1] * bw) / channels_sum\n",
    "    pan[:,:,2] = (ds[:,:,2] * bw) / channels_sum\n",
    "\n",
    "    return pan    "
   ]
  },
  {
   "cell_type": "code",
   "execution_count": null,
   "metadata": {},
   "outputs": [],
   "source": [
    "pan = brovey(bw, ds)"
   ]
  },
  {
   "cell_type": "code",
   "execution_count": null,
   "metadata": {},
   "outputs": [],
   "source": [
    "display_img(pan)\n",
    "display_img(original)"
   ]
  },
  {
   "cell_type": "code",
   "execution_count": null,
   "metadata": {},
   "outputs": [],
   "source": [
    "\"\"\"\n",
    "diff         : Compare l'image obtenue grâce au pansharpening avec l'image d'origine sur les trois canaux R, G, B\n",
    "original     : L'image originale\n",
    "pansharpened : L'image obtenue grâce au pansharpening\n",
    "return       : Rien\n",
    "\"\"\"\n",
    "def diff(original, pansharpened):\n",
    "    original = original.astype(int)\n",
    "    pansharpened = pansharpened.astype(int)\n",
    "    difference = 255 - abs(original - pansharpened)\n",
    "    \n",
    "    # Red\n",
    "    display_img(difference[:,:,0])\n",
    "    # Green\n",
    "    display_img(difference[:,:,1])\n",
    "    # Blue\n",
    "    display_img(difference[:,:,2])"
   ]
  },
  {
   "cell_type": "code",
   "execution_count": null,
   "metadata": {
    "scrolled": false
   },
   "outputs": [],
   "source": [
    "difference = diff(original, pan)"
   ]
  }
 ],
 "metadata": {
  "kernelspec": {
   "display_name": "Python 3",
   "language": "python",
   "name": "python3"
  },
  "language_info": {
   "codemirror_mode": {
    "name": "ipython",
    "version": 3
   },
   "file_extension": ".py",
   "mimetype": "text/x-python",
   "name": "python",
   "nbconvert_exporter": "python",
   "pygments_lexer": "ipython3",
   "version": "3.8.10"
  }
 },
 "nbformat": 4,
 "nbformat_minor": 4
}
