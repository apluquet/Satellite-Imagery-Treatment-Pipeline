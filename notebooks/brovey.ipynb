{
 "cells": [
  {
   "cell_type": "markdown",
   "metadata": {},
   "source": [
    "# Brovey Pansharpening\n",
    "\n",
    "La transformation Brovey est basée sur la modélisation spectrale. Elle a été élaborée dans le but d'augmenter le contraste visuel au niveau des extrémités supérieure et inférieure de l'histogramme des données. Elle fait appel à une méthode qui multiplie chaque pixel multispectral ré-échantillonné par le rapport de l'intensité du pixel panchromatique correspondant sur la somme de toutes les intensités multispectrales. Cette transformation suppose que la gamme spectrale couverte par l'image panchromatique est identique à celle recouverte par les canaux multispectraux.\n",
    "\n",
    "Dans la transformation Brovey, l'équation générale utilise le rouge, le vert et le bleu (RVB), ainsi que les canaux panchromatiques pour générer de nouveaux canaux RVB, par exemple :\n",
    "\n",
    "```\n",
    "Red_out = Red_in / [(blue_in + green_in + red_in) * Pan]\n",
    "```"
   ]
  },
  {
   "cell_type": "code",
   "execution_count": 1,
   "metadata": {},
   "outputs": [],
   "source": [
    "import matplotlib.pyplot as plt\n",
    "import cv2"
   ]
  },
  {
   "cell_type": "code",
   "execution_count": 2,
   "metadata": {},
   "outputs": [],
   "source": [
    "PATH = \"../images/our-images/\""
   ]
  },
  {
   "cell_type": "code",
   "execution_count": 8,
   "metadata": {},
   "outputs": [],
   "source": [
    "def load_images(name, ext):\n",
    "    path = PATH + name\n",
    "    bw = cv2.imread(path + \"-bw.\" + ext)\n",
    "    ds = cv2.imread(path + \"-ds.\" + ext)\n",
    "    ds = cv2.cvtColor(ds, cv2.COLOR_BGR2RGB)\n",
    "    return (bw, ds)\n",
    "\n",
    "bw, ds = load_images(\"star-fort\", \"jpg\")"
   ]
  },
  {
   "cell_type": "code",
   "execution_count": null,
   "metadata": {},
   "outputs": [],
   "source": []
  },
  {
   "cell_type": "code",
   "execution_count": null,
   "metadata": {},
   "outputs": [],
   "source": []
  }
 ],
 "metadata": {
  "kernelspec": {
   "display_name": "Python 3",
   "language": "python",
   "name": "python3"
  },
  "language_info": {
   "codemirror_mode": {
    "name": "ipython",
    "version": 3
   },
   "file_extension": ".py",
   "mimetype": "text/x-python",
   "name": "python",
   "nbconvert_exporter": "python",
   "pygments_lexer": "ipython3",
   "version": "3.8.10"
  }
 },
 "nbformat": 4,
 "nbformat_minor": 4
}
