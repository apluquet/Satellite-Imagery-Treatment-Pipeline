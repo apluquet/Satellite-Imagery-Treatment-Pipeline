{
 "cells": [
  {
   "cell_type": "markdown",
   "metadata": {},
   "source": [
    "Ce fichier contient toutes les fonctions utiles aux méthodes de mosaicing"
   ]
  },
  {
   "cell_type": "code",
   "execution_count": 1,
   "metadata": {},
   "outputs": [],
   "source": [
    "# Import\n",
    "import matplotlib.pyplot as plt\n",
    "import cv2"
   ]
  },
  {
   "cell_type": "markdown",
   "metadata": {},
   "source": [
    "# Load Images\n",
    "\n",
    "Cette catégorie contient les fonctions nécéssaire afin de charger les images à assembler.\n",
    "\n",
    "**OUR_IMAGES_PATH** : Chemin vers les images que nous avons nous même découpées.\n",
    "\n",
    "**SATELLITE_PATH** : Chemin vers des images issues de satellites."
   ]
  },
  {
   "cell_type": "code",
   "execution_count": 2,
   "metadata": {},
   "outputs": [],
   "source": [
    "\"\"\"  \n",
    "read_rgb : Lit une image et la convertir de BGR à RGB\n",
    "path     : Chemin vers l'image\n",
    "return   : L'image chargée\n",
    "\"\"\"\n",
    "def read_rgb(path):\n",
    "    img = cv2.imread(path)\n",
    "    img = cv2.cvtColor(img, cv2.COLOR_BGR2RGB)\n",
    "    return img"
   ]
  },
  {
   "cell_type": "code",
   "execution_count": 3,
   "metadata": {},
   "outputs": [],
   "source": [
    "\"\"\"  \n",
    "load_images    : Chargement des images à rassembler en mosaïque\n",
    "name           : Nom de l'image que l'on veut charger\n",
    "ext            : Extension des images que l'on veut charger\n",
    "n              : Nombre d'images à charger\n",
    "from_satellite : Booléen indiquant si l'image vient d'un satellite ou non afin qu'on la charge depuis le bon dossier\n",
    "return         : Liste des images chargées\n",
    "\"\"\"\n",
    "def load_images(name, ext, n, from_satellite=False):\n",
    "    \n",
    "    OUR_IMAGES_PATH = \"../images/our-images/\"\n",
    "    SATELLITE_PATH = \"../images/satellite/\"\n",
    "\n",
    "    if from_satellite:\n",
    "        path = SATELLITE_PATH + name\n",
    "    else:\n",
    "        path = OUR_IMAGES_PATH + name\n",
    "    \n",
    "    images = []\n",
    "    \n",
    "    for i in range (n):\n",
    "        tmp = read_rgb(path + \"-cropped\" + str(i) + \".\" + ext)\n",
    "        images.append(tmp)\n",
    "        \n",
    "    return images"
   ]
  },
  {
   "cell_type": "markdown",
   "metadata": {},
   "source": [
    "# Display Images\n",
    "\n",
    "Cette catégorie continent les différentes fonction permettant d'afficher des images."
   ]
  },
  {
   "cell_type": "code",
   "execution_count": 4,
   "metadata": {},
   "outputs": [],
   "source": [
    "\"\"\"\n",
    "display_img : Affiche une image\n",
    "img         : L'image à afficher\n",
    "return      : Rien\n",
    "\"\"\"\n",
    "def display_img(img):\n",
    "    plt.figure(figsize = (12, 12))\n",
    "    plt.imshow(img, cmap=\"gray\")\n",
    "    img.shape"
   ]
  },
  {
   "cell_type": "code",
   "execution_count": 5,
   "metadata": {},
   "outputs": [],
   "source": [
    "\"\"\"\n",
    "plot_list : Affichage de plusieurs images sur une ligne avec un titre pour chaque image\n",
    "imgs      : Liste des images à afficher\n",
    "titles    : Liste des titres respectifs des images à afficher\n",
    "return    : Rien\n",
    "\"\"\"\n",
    "def plot_list(imgs, titles = None):\n",
    "    fig, ax = plt.subplots(1, len(imgs), figsize=(26, 13))\n",
    "\n",
    "    fig.figsize = (13,13)\n",
    "    for i, img in enumerate(imgs):\n",
    "        ax[i].imshow(img, cmap='gray')\n",
    "\n",
    "        if titles != None:\n",
    "            ax[i].set_title(titles[i])"
   ]
  }
 ],
 "metadata": {
  "kernelspec": {
   "display_name": "Python 3",
   "language": "python",
   "name": "python3"
  },
  "language_info": {
   "codemirror_mode": {
    "name": "ipython",
    "version": 3
   },
   "file_extension": ".py",
   "mimetype": "text/x-python",
   "name": "python",
   "nbconvert_exporter": "python",
   "pygments_lexer": "ipython3",
   "version": "3.8.10"
  }
 },
 "nbformat": 4,
 "nbformat_minor": 4
}
