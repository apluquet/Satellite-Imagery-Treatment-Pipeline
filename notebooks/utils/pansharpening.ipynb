{
 "cells": [
  {
   "cell_type": "markdown",
   "metadata": {},
   "source": [
    "Ce fichier contient toutes le fonctions utiles commes aux différentes méthodes de Pansharpening "
   ]
  },
  {
   "cell_type": "code",
   "execution_count": null,
   "metadata": {},
   "outputs": [],
   "source": [
    "# Import\n",
    "import matplotlib.pyplot as plt\n",
    "import cv2"
   ]
  },
  {
   "cell_type": "markdown",
   "metadata": {},
   "source": [
    "### OUR_IMAGES_PATH\n",
    "Chemin vers les images que nous avons nous même crées.\n",
    "\n",
    "### SATELLITE_PATH\n",
    "Chemin vers des images issues de satellites."
   ]
  },
  {
   "cell_type": "code",
   "execution_count": null,
   "metadata": {},
   "outputs": [],
   "source": [
    "\"\"\"  \n",
    "load_images    : Chargement de nos images black&white, basse qualité couleur et originale\n",
    "name           : Nom de l'image que l'on veut charger\n",
    "ext            : Extension des images que l'on veut charger\n",
    "from_satellite : Booléen indiquant si l'image vient d'un satellite ou non afin qu'on la charge depuis le bon dossier\n",
    "return         : Les trois images chargées\n",
    "\"\"\"\n",
    "def load_images(name, ext, from_satellite=False):\n",
    "    \n",
    "    OUR_IMAGES_PATH = \"../images/our-images/\"\n",
    "    SATELLITE_PATH = \"../images/satellite/\"\n",
    "\n",
    "    if from_satellite:\n",
    "        path = SATELLITE_PATH + name\n",
    "    else:\n",
    "        path = OUR_IMAGES_PATH + name\n",
    "        \n",
    "    bw = cv2.imread(path + \"-bw.\" + ext, cv2.IMREAD_GRAYSCALE)\n",
    "    ds = cv2.imread(path + \"-ds.\" + ext)\n",
    "    ds = cv2.cvtColor(ds, cv2.COLOR_BGR2RGB)\n",
    "    original = cv2.imread(path + \"-cropped.\" + ext)\n",
    "    original = cv2.cvtColor(original, cv2.COLOR_BGR2RGB)\n",
    "    return (bw, ds, original)"
   ]
  },
  {
   "cell_type": "code",
   "execution_count": null,
   "metadata": {},
   "outputs": [],
   "source": [
    "\"\"\"\n",
    "display_img : Affiche une image\n",
    "img         : L'image à afficher\n",
    "return      : Rien\n",
    "\"\"\"\n",
    "def display_img(img):\n",
    "    plt.figure(figsize = (12, 12))\n",
    "    plt.imshow(img, cmap=\"gray\")"
   ]
  },
  {
   "cell_type": "code",
   "execution_count": null,
   "metadata": {},
   "outputs": [],
   "source": [
    "\"\"\"\n",
    "diff_channels : Compare l'image obtenue grâce au pansharpening avec l'image d'origine sur les trois canaux R, G, B\n",
    "original      : L'image originale\n",
    "pansharpened  : L'image obtenue grâce au pansharpening\n",
    "return        : Rien\n",
    "\"\"\"\n",
    "def diff_channels(original, pansharpened):\n",
    "    original = original.astype(int)\n",
    "    pansharpened = pansharpened.astype(int)\n",
    "    difference = 255 - abs(original - pansharpened)\n",
    "    \n",
    "    # Red\n",
    "    display_img(difference[:,:,0])\n",
    "    # Green\n",
    "    display_img(difference[:,:,1])\n",
    "    # Blue\n",
    "    display_img(difference[:,:,2])"
   ]
  }
 ],
 "metadata": {
  "kernelspec": {
   "display_name": "Python 3",
   "language": "python",
   "name": "python3"
  },
  "language_info": {
   "codemirror_mode": {
    "name": "ipython",
    "version": 3
   },
   "file_extension": ".py",
   "mimetype": "text/x-python",
   "name": "python",
   "nbconvert_exporter": "python",
   "pygments_lexer": "ipython3",
   "version": "3.8.10"
  }
 },
 "nbformat": 4,
 "nbformat_minor": 4
}
