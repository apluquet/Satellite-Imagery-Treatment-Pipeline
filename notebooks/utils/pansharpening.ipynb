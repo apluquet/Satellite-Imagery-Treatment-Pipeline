{
 "cells": [
  {
   "cell_type": "markdown",
   "metadata": {},
   "source": [
    "Ce fichier contient toutes le fonctions utiles commes aux différentes méthodes de Pansharpening "
   ]
  },
  {
   "cell_type": "code",
   "execution_count": 1,
   "metadata": {},
   "outputs": [],
   "source": [
    "# Import\n",
    "import matplotlib.pyplot as plt\n",
    "import cv2"
   ]
  },
  {
   "cell_type": "markdown",
   "metadata": {},
   "source": [
    "# Load Image\n",
    "\n",
    "Cette catégorie contient les fonctions nécéssaires afin de charger une image spécifique pour pouvoir la traîter ensuite.\n",
    "\n",
    "**OUR_IMAGES_PATH** : Chemin vers les images que nous avons nous même crées.\n",
    "\n",
    "**SATELLITE_PATH** : Chemin vers des images issues de satellites."
   ]
  },
  {
   "cell_type": "code",
   "execution_count": 2,
   "metadata": {},
   "outputs": [],
   "source": [
    "\"\"\"  \n",
    "read_rgb : Lit une image et la convertir de BGR à RGB\n",
    "path     : Chemin vers l'image\n",
    "return   : L'image chargée\n",
    "\"\"\"\n",
    "def read_rgb(path):\n",
    "    img = cv2.imread(path)\n",
    "    img = cv2.cvtColor(img, cv2.COLOR_BGR2RGB)\n",
    "    return img"
   ]
  },
  {
   "cell_type": "code",
   "execution_count": 3,
   "metadata": {},
   "outputs": [],
   "source": [
    "\"\"\"  \n",
    "load_images    : Chargement de nos images black&white, basse qualité couleur et originale\n",
    "name           : Nom de l'image que l'on veut charger\n",
    "ext            : Extension des images que l'on veut charger\n",
    "return         : Les trois images chargées\n",
    "\"\"\"\n",
    "def load_images(name, ext):\n",
    "    \n",
    "    OUR_IMAGES_PATH = \"../images/our-images/\"\n",
    "\n",
    "    path = OUR_IMAGES_PATH + name\n",
    "        \n",
    "    bw = cv2.imread(path + \"-bw.\" + ext, cv2.IMREAD_GRAYSCALE)\n",
    "    ds = read_rgb(path + \"-ds.\" + ext)\n",
    "    original = read_rgb(path + \"-cropped.\" + ext)\n",
    "    \n",
    "    return (bw, ds, original)"
   ]
  },
  {
   "cell_type": "markdown",
   "metadata": {},
   "source": [
    "# Display Images\n",
    "\n",
    "Cette catégorie continent les différentes fonction permettant d'afficher des images."
   ]
  },
  {
   "cell_type": "code",
   "execution_count": null,
   "metadata": {},
   "outputs": [],
   "source": [
    "def load_satellite_images(path, ext):\n",
    "    \n",
    "    pan = cv2.imread(path + 'PAN' + ext, cv2.IMREAD_GRAYSCALE)\n",
    "    rgb = cv2.imread(path + 'RGB' + ext)\n",
    "    rgb = cv2.cvtColor(rgb, cv2.COLOR_BGR2RGB)\n",
    "    return pan, rgb"
   ]
  },
  {
   "cell_type": "code",
   "execution_count": 4,
   "metadata": {},
   "outputs": [],
   "source": [
    "\"\"\"\n",
    "display_img : Affiche une image\n",
    "img         : L'image à afficher\n",
    "return      : Rien\n",
    "\"\"\"\n",
    "def display_img(img):\n",
    "    plt.figure(figsize = (12, 12))\n",
    "    plt.imshow(img, cmap=\"gray\")\n",
    "    img.shape"
   ]
  },
  {
   "cell_type": "code",
   "execution_count": 5,
   "metadata": {},
   "outputs": [],
   "source": [
    "\"\"\"\n",
    "plot_list : Affichage de plusieurs images sur une ligne avec un titre pour chaque image\n",
    "imgs      : Liste des images à afficher\n",
    "titles    : Liste des titres respectifs des images à afficher\n",
    "return    : Rien\n",
    "\"\"\"\n",
    "def plot_list(imgs, titles = None):\n",
    "    fig, ax = plt.subplots(1, len(imgs), figsize=(26, 13))\n",
    "\n",
    "    fig.figsize = (13,13)\n",
    "    for i, img in enumerate(imgs):\n",
    "        ax[i].imshow(img, cmap='gray')\n",
    "\n",
    "        if titles != None:\n",
    "            ax[i].set_title(titles[i])"
   ]
  },
  {
   "cell_type": "markdown",
   "metadata": {},
   "source": [
    "# Difference functions\n",
    "\n",
    "Pour commencer, nous avons commencé avec des images que nous avons nous même dégradées en couleur et passées en N&B. Ainsi, nous avons une image de référence pour comparer les résultats de nos méthodes de pansharpening.\n",
    "\n",
    "Les fonctions de cette catégorie permettent de mesurer l'écart entre l'image obtenue avec le pansharpening et l'image de référence."
   ]
  },
  {
   "cell_type": "code",
   "execution_count": 6,
   "metadata": {},
   "outputs": [],
   "source": [
    "\"\"\"\n",
    "diff_channels : Compare l'image obtenue grâce au pansharpening avec l'image d'origine sur les trois canaux R, G, B\n",
    "original      : L'image originale\n",
    "pansharpened  : L'image obtenue grâce au pansharpening\n",
    "return        : Rien\n",
    "\"\"\"\n",
    "def diff_channels(original, pansharpened):\n",
    "    original = original.astype(int)\n",
    "    pansharpened = pansharpened.astype(int)\n",
    "    difference = 255 - abs(original - pansharpened)\n",
    "        \n",
    "    plot_list([difference[:,:,0], difference[:,:,1], difference[:,:,2]],\n",
    "              [\"Red channel\", \"Green channel\", \"Blue channel\"])\n"
   ]
  }
 ],
 "metadata": {
  "kernelspec": {
   "display_name": "Python 3",
   "language": "python",
   "name": "python3"
  },
  "language_info": {
   "codemirror_mode": {
    "name": "ipython",
    "version": 3
   },
   "file_extension": ".py",
   "mimetype": "text/x-python",
   "name": "python",
   "nbconvert_exporter": "python",
   "pygments_lexer": "ipython3",
   "version": "3.10.4"
  }
 },
 "nbformat": 4,
 "nbformat_minor": 4
}
